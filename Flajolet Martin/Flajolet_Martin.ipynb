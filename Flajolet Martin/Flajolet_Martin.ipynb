{
 "cells": [
  {
   "cell_type": "code",
   "execution_count": 2,
   "metadata": {
    "id": "rkByh-uY40lM"
   },
   "outputs": [],
   "source": [
    "import pandas as pd\n",
    "import numpy as np\n",
    "import mmh3\n",
    "import math\n",
    "import statistics"
   ]
  },
  {
   "cell_type": "code",
   "execution_count": 3,
   "metadata": {
    "id": "vs2l0-SDuJ0Z"
   },
   "outputs": [],
   "source": [
    "# list of files to read\n",
    "filenames = ['quotes_2008-08.txt',\n",
    "\t\t'quotes_2008-09.txt',\n",
    "\t\t'quotes_2008-10.txt',\n",
    "\t\t'quotes_2008-11.txt',\n",
    "\t\t'quotes_2008-12.txt',\n",
    "\t\t'quotes_2009-01.txt',\n",
    "\t\t'quotes_2009-02.txt',\n",
    "\t\t'quotes_2009-03.txt',\n",
    "\t\t'quotes_2009-04.txt']"
   ]
  },
  {
   "cell_type": "code",
   "execution_count": 4,
   "metadata": {
    "id": "AvvoaocMMuAk"
   },
   "outputs": [],
   "source": [
    "def trailing_zeros(n):\n",
    "\ts = str(n)\n",
    "\treturn len(s)-len(s.rstrip('0'))"
   ]
  },
  {
   "cell_type": "code",
   "execution_count": 5,
   "metadata": {
    "id": "AapSma-7KuRa"
   },
   "outputs": [],
   "source": [
    "def convert_to_binary(value):\n",
    "    return format(value, '032b') #32 bit"
   ]
  },
  {
   "cell_type": "code",
   "execution_count": 6,
   "metadata": {},
   "outputs": [],
   "source": [
    "result = [ \"\" for i in range(10)]\n",
    "result_tail = [[] for i in range(10)]"
   ]
  },
  {
   "cell_type": "code",
   "execution_count": 7,
   "metadata": {},
   "outputs": [],
   "source": [
    "for fileName in filenames:\n",
    "    file_path = str(fileName)\n",
    "    fp = open(file_path, \"r\", encoding='ISO-8859-1')\n",
    "    for line in fp:\n",
    "        new_line = line.split(\"\\t\")\n",
    "        if new_line[0] is 'Q':\n",
    "            quote = new_line[1]\n",
    "            for i in range(10):\n",
    "                result[i] = format(abs(mmh3.hash(quote, i)), '032b')\n",
    "                result_tail[i].append(trailing_zeros(result[i]))\n",
    "    fp.close()"
   ]
  },
  {
   "cell_type": "code",
   "execution_count": 10,
   "metadata": {},
   "outputs": [],
   "source": [
    "group1 = (2**(max(result_tail[0])) + 2**(max(result_tail[2])) + 2**(max(result_tail[4])) + 2**(max(result_tail[6])) + 2**(max(result_tail[8])))/ float(5)\n",
    "group2 = (2**(max(result_tail[1])) + 2**(max(result_tail[3])) + 2**(max(result_tail[5])) + 2**(max(result_tail[7])) + 2**(max(result_tail[9])))/ float(5)"
   ]
  },
  {
   "cell_type": "code",
   "execution_count": 11,
   "metadata": {},
   "outputs": [
    {
     "name": "stdout",
     "output_type": "stream",
     "text": [
      "214748365\n"
     ]
    }
   ],
   "source": [
    "print((math.ceil(statistics.median([group1, group2])))\t)"
   ]
  },
  {
   "cell_type": "code",
   "execution_count": null,
   "metadata": {},
   "outputs": [],
   "source": []
  }
 ],
 "metadata": {
  "accelerator": "GPU",
  "colab": {
   "collapsed_sections": [],
   "name": "Copy of ADM-Flajolet-Martin.ipynb",
   "provenance": []
  },
  "kernelspec": {
   "display_name": "Python 3",
   "language": "python",
   "name": "python3"
  },
  "language_info": {
   "codemirror_mode": {
    "name": "ipython",
    "version": 3
   },
   "file_extension": ".py",
   "mimetype": "text/x-python",
   "name": "python",
   "nbconvert_exporter": "python",
   "pygments_lexer": "ipython3",
   "version": "3.7.3"
  }
 },
 "nbformat": 4,
 "nbformat_minor": 1
}
