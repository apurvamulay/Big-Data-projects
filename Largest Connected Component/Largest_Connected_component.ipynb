{
 "cells": [
  {
   "cell_type": "markdown",
   "metadata": {},
   "source": [
    "## Author: Apurva Mulay\n",
    "## Q5. Largest Connected Component"
   ]
  },
  {
   "cell_type": "code",
   "execution_count": 1,
   "metadata": {},
   "outputs": [],
   "source": [
    "import random\n",
    "import networkx as nx\n",
    "import matplotlib.pyplot as plt"
   ]
  },
  {
   "cell_type": "code",
   "execution_count": 2,
   "metadata": {},
   "outputs": [],
   "source": [
    "def graphGeneration(filename):\n",
    "    G = nx.read_edgelist(filename, create_using=nx.Graph(), nodetype=int)\n",
    "    print(nx.info(G))\n",
    "    return G"
   ]
  },
  {
   "cell_type": "code",
   "execution_count": 3,
   "metadata": {},
   "outputs": [],
   "source": [
    "def computeLargestConnectedComponent(G):\n",
    "    edges_removed_count = []\n",
    "    size_largest_connectedComp = []\n",
    "    for sampling_percent in range(1, 101, 5): \n",
    "        print(\"No. of Edges before sampling\", len(G.edges()))\n",
    "        no_of_edges = int(len(G.edges()) * (sampling_percent * 0.01))\n",
    "        edges_removed_count.append(no_of_edges)\n",
    "        new_edges = random.sample(G.edges(), no_of_edges)\n",
    "        G.remove_edges_from(new_edges)\n",
    "        print(\"No. of Edges (Sampling % \"+str(sampling_percent)+\"): \"+str(len(G.edges())))\n",
    "        connected_component = max(nx.connected_components(G), key=len)\n",
    "        size_largest_connectedComp.append(len(connected_component))\n",
    "        G.add_edges_from(new_edges)\n",
    "    return edges_removed_count, size_largest_connectedComp"
   ]
  },
  {
   "cell_type": "code",
   "execution_count": 4,
   "metadata": {},
   "outputs": [],
   "source": [
    "def plot_x_Vs_xs(x_edges, size_of_largest_conectedcomp):\n",
    "    plt.title('x vs xs')\n",
    "    plt.plot(x_edges, size_of_largest_conectedcomp)\n",
    "    plt.xlabel('x')\n",
    "    plt.ylabel('xs')\n",
    "    plt.show()"
   ]
  },
  {
   "cell_type": "code",
   "execution_count": 5,
   "metadata": {},
   "outputs": [],
   "source": [
    "def main():\n",
    "    filename = 'com-lj.ungraph.txt'\n",
    "    G = graphGeneration(filename)\n",
    "    edges_removed_count, size_largest_connectedComp = computeLargestConnectedComponent(G)\n",
    "    plot_x_Vs_xs(edges_removed_count, size_largest_connectedComp)"
   ]
  },
  {
   "cell_type": "code",
   "execution_count": 6,
   "metadata": {},
   "outputs": [
    {
     "name": "stdout",
     "output_type": "stream",
     "text": [
      "Name: \n",
      "Type: Graph\n",
      "Number of nodes: 3997962\n",
      "Number of edges: 34681189\n",
      "Average degree:  17.3494\n",
      "No. of Edges before sampling 34681189\n",
      "No. of Edges (Sampling % 1): 34334378\n",
      "No. of Edges before sampling 34681189\n",
      "No. of Edges (Sampling % 6): 32600318\n",
      "No. of Edges before sampling 34681189\n",
      "No. of Edges (Sampling % 11): 30866259\n",
      "No. of Edges before sampling 34681189\n",
      "No. of Edges (Sampling % 16): 29132199\n",
      "No. of Edges before sampling 34681189\n",
      "No. of Edges (Sampling % 21): 27398140\n",
      "No. of Edges before sampling 34681189\n",
      "No. of Edges (Sampling % 26): 25664080\n",
      "No. of Edges before sampling 34681189\n",
      "No. of Edges (Sampling % 31): 23930021\n",
      "No. of Edges before sampling 34681189\n",
      "No. of Edges (Sampling % 36): 22195961\n",
      "No. of Edges before sampling 34681189\n",
      "No. of Edges (Sampling % 41): 20461902\n",
      "No. of Edges before sampling 34681189\n",
      "No. of Edges (Sampling % 46): 18727843\n",
      "No. of Edges before sampling 34681189\n",
      "No. of Edges (Sampling % 51): 16993783\n",
      "No. of Edges before sampling 34681189\n",
      "No. of Edges (Sampling % 56): 15259724\n",
      "No. of Edges before sampling 34681189\n",
      "No. of Edges (Sampling % 61): 13525664\n",
      "No. of Edges before sampling 34681189\n",
      "No. of Edges (Sampling % 66): 11791605\n",
      "No. of Edges before sampling 34681189\n",
      "No. of Edges (Sampling % 71): 10057545\n",
      "No. of Edges before sampling 34681189\n",
      "No. of Edges (Sampling % 76): 8323486\n",
      "No. of Edges before sampling 34681189\n",
      "No. of Edges (Sampling % 81): 6589426\n",
      "No. of Edges before sampling 34681189\n",
      "No. of Edges (Sampling % 86): 4855367\n",
      "No. of Edges before sampling 34681189\n",
      "No. of Edges (Sampling % 91): 3121308\n",
      "No. of Edges before sampling 34681189\n",
      "No. of Edges (Sampling % 96): 1387248\n"
     ]
    },
    {
     "data": {
      "image/png": "[encoded data removed]",
      "text/plain": [
       "<Figure size 432x288 with 1 Axes>"
      ]
     },
     "metadata": {
      "needs_background": "light"
     },
     "output_type": "display_data"
    }
   ],
   "source": [
    "main()"
   ]
  }
 ],
 "metadata": {
  "kernelspec": {
   "display_name": "Python 3",
   "language": "python",
   "name": "python3"
  },
  "language_info": {
   "codemirror_mode": {
    "name": "ipython",
    "version": 3
   },
   "file_extension": ".py",
   "mimetype": "text/x-python",
   "name": "python",
   "nbconvert_exporter": "python",
   "pygments_lexer": "ipython3",
   "version": "3.7.5"
  }
 },
 "nbformat": 4,
 "nbformat_minor": 4
}
