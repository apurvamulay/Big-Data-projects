{
 "cells": [
  {
   "cell_type": "code",
   "execution_count": 1,
   "metadata": {},
   "outputs": [],
   "source": [
    "from bitarray import bitarray\n",
    "import math, mmh3, pyhash\n",
    "from fnvhash import fnv1a_32 as fnvh\n",
    "from pyhashxx import hashxx"
   ]
  },
  {
   "cell_type": "code",
   "execution_count": 2,
   "metadata": {},
   "outputs": [],
   "source": [
    "def cal_value_k(n, m):\n",
    "    k = (n/m)*math.log(2)\n",
    "    k = round(k)\n",
    "    return k"
   ]
  },
  {
   "cell_type": "code",
   "execution_count": 3,
   "metadata": {},
   "outputs": [],
   "source": [
    "def initialization(input_set):\n",
    "    m = len(input_set)\n",
    "    n = m * 8 \n",
    "    b = bitarray(n)\n",
    "    b.setall(0)\n",
    "    print(\"n:\", n)\n",
    "    print(\"m:\", m)\n",
    "    return b, n, m"
   ]
  },
  {
   "cell_type": "code",
   "execution_count": 4,
   "metadata": {},
   "outputs": [],
   "source": [
    "def reading_input_set(file):\n",
    "    S = []\n",
    "    temp = dict()\n",
    "    with open(file,'r', encoding='ISO-8859-1') as text:\n",
    "        for line in text:\n",
    "            temp[line] = line\n",
    "            S.append(line)\n",
    "    text.close()\n",
    "    b, n, m = initialization(S)\n",
    "    k = cal_value_k(n, m)\n",
    "    for line in S:\n",
    "        h_1 = mmh3.hash(line, 31) % n\n",
    "        h_2 = fnvh(line.encode()) % n\n",
    "        h_3 = hashxx(line.encode()) % n\n",
    "        h_4 = pyhash.super_fast_hash()(line) % n\n",
    "        h_5 = pyhash.spooky_32()(line) % n\n",
    "        h_6 = pyhash.farm_32()(line) % n\n",
    "        b[h_1] = b[h_2] = b[h_3] = b[h_4] = b[h_5] = b[h_6] = 1\n",
    "    return b, n, m, k, temp"
   ]
  },
  {
   "cell_type": "code",
   "execution_count": 5,
   "metadata": {},
   "outputs": [],
   "source": [
    "def processing_input_stream(stream, b, n, m, k, temp):\n",
    "    true_negatives, false_positives = 0, 0\n",
    "    data = open(stream, 'r', encoding='ISO-8859-1')\n",
    "    for line in data:\n",
    "        h_1 = mmh3.hash(line, 31) % n\n",
    "        h_2 = fnvh(line.encode()) % n\n",
    "        h_3 = hashxx(line.encode()) % n\n",
    "        h_4 = pyhash.super_fast_hash()(line) % n\n",
    "        h_5 = pyhash.spooky_32()(line) % n\n",
    "        h_6 = pyhash.farm_32()(line) % n\n",
    "        if (b[h_1] == 1) and (b[h_2] == 1) and (b[h_3] == 1) and (b[h_4] == 1) and (b[h_5] == 1) and (b[h_6] == 1):\n",
    "            if line not in temp:\n",
    "                false_positives += 1\n",
    "        else:\n",
    "            true_negatives += 1\n",
    "    data.close()       \n",
    "    print(\"No. of False Positives: \", false_positives)\n",
    "    print(\"No. of True Negatives: \", true_negatives)\n",
    "    print('Actual False Positive Rate ='+str(round((false_positives/(false_positives+true_negatives))*100, 2))+\"%\")\n",
    "\n",
    "    percentage_false_positives = (1 - (math.e)**(-k*m/n))**k\n",
    "    print(\"% of false positives according to formula:\", round(percentage_false_positives *100, 2))\n",
    "    print('Optimal Value for k is:', k)"
   ]
  },
  {
   "cell_type": "code",
   "execution_count": 6,
   "metadata": {},
   "outputs": [
    {
     "name": "stdout",
     "output_type": "stream",
     "text": [
      "n: 2267192\n",
      "m: 283399\n",
      "No. of False Positives:  45542\n",
      "No. of True Negatives:  2095606\n",
      "Actual False Positive Rate =2.13%\n",
      "% of false positives according to formula: 2.16\n",
      "Optimal Value for k is: 6\n"
     ]
    }
   ],
   "source": [
    "if __name__ == \"__main__\":\n",
    "    input_file = 'listed_username_30.txt'\n",
    "    stream_file = 'listed_username_365.txt'\n",
    "    b, n, m, k, temp = reading_input_set(input_file)\n",
    "    processing_input_stream(stream_file, b, n, m, k, temp)"
   ]
  }
 ],
 "metadata": {
  "kernelspec": {
   "display_name": "Python 3",
   "language": "python",
   "name": "python3"
  },
  "language_info": {
   "codemirror_mode": {
    "name": "ipython",
    "version": 3
   },
   "file_extension": ".py",
   "mimetype": "text/x-python",
   "name": "python",
   "nbconvert_exporter": "python",
   "pygments_lexer": "ipython3",
   "version": "3.7.4"
  }
 },
 "nbformat": 4,
 "nbformat_minor": 4
}
